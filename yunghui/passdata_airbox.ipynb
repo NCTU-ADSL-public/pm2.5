{
 "cells": [
  {
   "cell_type": "code",
   "execution_count": 2,
   "metadata": {
    "collapsed": true
   },
   "outputs": [],
   "source": [
    "import pandas as pd\n",
    "import numpy as np"
   ]
  },
  {
   "cell_type": "code",
   "execution_count": 17,
   "metadata": {
    "collapsed": true
   },
   "outputs": [],
   "source": [
    "def pass_data(csv):\n",
    "    df = pd.read_csv(csv)\n",
    "    #print df.head()\n",
    "    LonLat = df['coordinates'].str[1:-1]     #remove \"[]\"\n",
    "    temp_lonlat = LonLat.str.split(\",\")\n",
    "    df['lat'] = temp_lonlat.apply(lambda x: x[0]).astype(float)\n",
    "    df['lon'] = temp_lonlat.apply(lambda x: x[1]).astype(float)\n",
    "    temp_time = df['time'].str.split(\":\")\n",
    "    df['datetime'] = df['date'] + ' ' + df['time']    \n",
    "    \n",
    "    df = df.sort_values(['device_id','date','time'], ascending=[1,1,1])\n",
    "    #print df.columns\n",
    "    \n",
    "    \n",
    "    \n",
    "    ##========== new_df\n",
    "    new_df = df[['device_id','s_d0','lon','lat', 'date', 'time']]\n",
    "    new_df['datetime'] = pd.to_datetime(df['datetime'], format=('%Y-%m-%d %H:%M:%S'))\n",
    "    \n",
    "    return new_df"
   ]
  },
  {
   "cell_type": "code",
   "execution_count": 18,
   "metadata": {
    "collapsed": true
   },
   "outputs": [],
   "source": [
    "def get_one_station_ts(new_df, Name):  \n",
    "    one_df = new_df.loc[new_df['device_id'] == Name]\n",
    "    one_df = one_df[['device_id','s_d0','lon','lat','datetime']]\n",
    "    ts_df = one_df.set_index('datetime')\n",
    "    ts_df_mod = ts_df.resample('20T', label = 'right', closed = 'reight').mean()\n",
    "    ts_df_trun = ts_df_mod.truncate(before='2017-05-15 00:00:00 ', after='2017-05-22 23:59:59')\n",
    "    \n",
    "    return ts_df_trun"
   ]
  },
  {
   "cell_type": "code",
   "execution_count": null,
   "metadata": {
    "scrolled": false
   },
   "outputs": [
    {
     "name": "stderr",
     "output_type": "stream",
     "text": [
      "C:\\Users\\adsl\\Anaconda2\\lib\\site-packages\\ipykernel_launcher.py:18: SettingWithCopyWarning: \n",
      "A value is trying to be set on a copy of a slice from a DataFrame.\n",
      "Try using .loc[row_indexer,col_indexer] = value instead\n",
      "\n",
      "See the caveats in the documentation: http://pandas.pydata.org/pandas-docs/stable/indexing.html#indexing-view-versus-copy\n"
     ]
    }
   ],
   "source": [
    "def main():\n",
    "    # load the data\n",
    "    new_df = pass_data('C:/Users/adsl/Desktop/pm25_airbox_05.csv')\n",
    "    \n",
    "    SiteEngName_list = new_df['device_id'].unique().tolist()\n",
    "    \n",
    "    appended_data = []   \n",
    "    null_count = []\n",
    "    \n",
    "    for ID in SiteEngName_list:\n",
    "        data = get_one_station_ts(new_df, ID)\n",
    "        null_count.append(data['s_d0'].isnull().sum())\n",
    "    filter_baseline = np.percentile(null_count, 75)\n",
    "    #print filter_baseline\n",
    "    \n",
    "    \n",
    "    for ID in SiteEngName_list:\n",
    "        data2 = get_one_station_ts(new_df, ID)\n",
    "        if data2['s_d0'].isnull().sum() < filter_baseline:\n",
    "            #print data2['s_d0'].isnull().sum()\n",
    "            fill_data2 = data2.fillna(data2.interpolate())\n",
    "            fill_data2 = fill_data2.fillna(fill_data2.bfill())\n",
    "            #print fill_data2['s_d0'].isnull().sum()\n",
    "            fill_data2['device_id'] = ID\n",
    "            appended_data.append(fill_data2) ## store dataframes in list\n",
    "            \n",
    "    appended_data = pd.concat(appended_data, axis=0)\n",
    "    #print appended_data\n",
    "    \n",
    "    \n",
    "    appended_data.to_csv('passdata_airbox.csv')\n",
    "\n",
    "    \n",
    "    \n",
    "if __name__ == \"__main__\":\n",
    "    main()"
   ]
  },
  {
   "cell_type": "code",
   "execution_count": null,
   "metadata": {
    "collapsed": true
   },
   "outputs": [],
   "source": []
  }
 ],
 "metadata": {
  "kernelspec": {
   "display_name": "Python 2",
   "language": "python",
   "name": "python2"
  },
  "language_info": {
   "codemirror_mode": {
    "name": "ipython",
    "version": 2
   },
   "file_extension": ".py",
   "mimetype": "text/x-python",
   "name": "python",
   "nbconvert_exporter": "python",
   "pygments_lexer": "ipython2",
   "version": "2.7.13"
  }
 },
 "nbformat": 4,
 "nbformat_minor": 2
}
