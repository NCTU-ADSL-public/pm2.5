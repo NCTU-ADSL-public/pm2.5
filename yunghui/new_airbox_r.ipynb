{
 "cells": [
  {
   "cell_type": "code",
   "execution_count": 1,
   "metadata": {},
   "outputs": [],
   "source": [
    "import pandas as pd\n",
    "import numpy as np\n",
    "import json\n",
    "\n",
    "from datetime import datetime\n",
    "import math\n",
    "from sklearn.metrics import mean_squared_error"
   ]
  },
  {
   "cell_type": "code",
   "execution_count": 2,
   "metadata": {
    "collapsed": true
   },
   "outputs": [],
   "source": [
    "def pass_data(csv):\n",
    "    df = pd.read_csv(csv)\n",
    "    \n",
    "    temp_datetime = df['datetime'].str.split(\" \")\n",
    "    df['date'] = temp_datetime.apply(lambda x: x[0])\n",
    "    df['time'] = temp_datetime.apply(lambda x: x[1])\n",
    "    df['time_fix'] = pd.to_datetime(df['time'], format=('%H:%M')).dt.time\n",
    "    df['datetime'] = pd.to_datetime(df['datetime'], format=('%Y-%m-%d %H:%M:%S'))\n",
    "    \n",
    "    df = df.sort_values(['device_id','date','time'], ascending=[1,1,1])\n",
    "    #print df.head()\n",
    "    \n",
    "    \n",
    "    return df"
   ]
  },
  {
   "cell_type": "code",
   "execution_count": 3,
   "metadata": {
    "collapsed": true
   },
   "outputs": [],
   "source": [
    "def get_time(df, time_start, time_end):   \n",
    "    time_df = df.loc[(df['time_fix'] >= time_start) & (df['time_fix'] < time_end)]\n",
    "    return time_df"
   ]
  },
  {
   "cell_type": "code",
   "execution_count": 4,
   "metadata": {
    "collapsed": true
   },
   "outputs": [],
   "source": [
    "def x_y_split(input_SiteEngName,df):\n",
    "\n",
    "    df_x = df.loc[df['device_id'] != input_SiteEngName]\n",
    "    df_y = df.loc[df['device_id'] == input_SiteEngName]\n",
    "\n",
    "    return df_x, df_y"
   ]
  },
  {
   "cell_type": "code",
   "execution_count": 5,
   "metadata": {
    "collapsed": true
   },
   "outputs": [],
   "source": [
    "def flter_distance(df_y, df_x, r):\n",
    "    \n",
    "    lon_center = df_y['lon'].unique()[0]\n",
    "    lat_center = df_y['lat'].unique()[0]\n",
    "\n",
    "    new_df_x = df_x.loc[(df_x['lon'] < lon_center + r) & (df_x['lat'] < lat_center + r) & \\\n",
    "                        (df_x['lon'] > lon_center - r) & (df_x['lat'] > lat_center - r)]\n",
    "\n",
    "\n",
    "    return new_df_x"
   ]
  },
  {
   "cell_type": "code",
   "execution_count": 6,
   "metadata": {
    "collapsed": true
   },
   "outputs": [],
   "source": [
    "def data_to_column(df):\n",
    "    \n",
    "    mat_PM25 = []\n",
    "    for i in df['device_id'].unique().tolist():\n",
    "        #print 'i:  {}'.format(i)\n",
    "        new_df = df.loc[(df['device_id'] == i)]\n",
    "        PM25 = new_df['s_d0'].values\n",
    "        mat_PM25.append(PM25)\n",
    "            \n",
    "    return mat_PM25"
   ]
  },
  {
   "cell_type": "code",
   "execution_count": 7,
   "metadata": {},
   "outputs": [],
   "source": [
    "def my_model(mat_PM25_x, mat_PM25_y):\n",
    "    \n",
    "    y_pred = []\n",
    "    y_true = []\n",
    "    \n",
    "    for j in range(len(mat_PM25_y[0])):\n",
    "        x_list = []\n",
    "        #print '## round:{}'.format(j)\n",
    "        for i in range(len(mat_PM25_x)):\n",
    "            if len(mat_PM25_x[i]) == len(mat_PM25_y[0]):\n",
    "                #print 'i: {}, len(mat_PM25_x[i]):  {}'.format(i, len(mat_PM25_x[i]))\n",
    "                x_list.append(mat_PM25_x[i][j])\n",
    "                \n",
    "        \n",
    "        near_give_value = np.mean(np.array(x_list))\n",
    "        real_value = mat_PM25_y[0][j]\n",
    "        y_pred.append(near_give_value)\n",
    "        y_true.append(real_value)\n",
    "        #print 'estimated_value:  {}'.format(near_give_value)\n",
    "        #print 'real_value:  {}'.format(real_value)\n",
    "        #print 'diff:  {} '.format(abs(near_give_value-real_value))\n",
    "        \n",
    "        #print '----------------------------------------------------'\n",
    "        \n",
    "    return y_pred, y_true"
   ]
  },
  {
   "cell_type": "code",
   "execution_count": 8,
   "metadata": {
    "collapsed": true
   },
   "outputs": [],
   "source": [
    "def test_r_model(df_x, df_y, r_list):\n",
    "    \n",
    "    MSE_list = []\n",
    "    for r in r_list:\n",
    "        #print 'r:  {}'.format(r)\n",
    "        new_df_x = flter_distance(df_y, df_x, r)\n",
    "        \n",
    "    \n",
    "        # transfer data to matrix\n",
    "        mat_PM25_x = data_to_column(new_df_x)\n",
    "        mat_PM25_y = data_to_column(df_y)\n",
    "        #print 'len(mat_PM25_x):  {}'.format(len(mat_PM25_x))\n",
    "    \n",
    "   \n",
    "        #apply to model\n",
    "        y_pred, y_true = my_model(mat_PM25_x, mat_PM25_y)\n",
    "        MSE = mean_squared_error(y_true, y_pred)\n",
    "    \n",
    "        #print 'radius: {}'.format(r)\n",
    "        #print 'MSE:  {}'.format(MSE)\n",
    "\n",
    "        #print '-----------------------------------------------'\n",
    "        MSE_list.append(MSE)\n",
    "\n",
    "        \n",
    "    #print 'best radius(MSE): {}, train_MSE: {}'.format(r_list[MSE_list.index(min(MSE_list))], min(MSE_list))\n",
    "\n",
    "   \n",
    "        \n",
    "    return r_list[MSE_list.index(min(MSE_list))] "
   ]
  },
  {
   "cell_type": "code",
   "execution_count": 9,
   "metadata": {
    "collapsed": true
   },
   "outputs": [],
   "source": [
    "def get_distance(data1, data2):\n",
    "    points = zip(data1, data2)\n",
    "    diffs_squared_distance = [pow(a - b, 2) for (a, b) in points]\n",
    "    return math.sqrt(sum(diffs_squared_distance))"
   ]
  },
  {
   "cell_type": "code",
   "execution_count": null,
   "metadata": {
    "scrolled": false
   },
   "outputs": [
    {
     "name": "stdout",
     "output_type": "stream",
     "text": [
      "input_device_id: 74DA38AF47E6\n"
     ]
    }
   ],
   "source": [
    "def main(): # input_SiteEngName \n",
    "    \n",
    "    # load the data\n",
    "    df = pass_data('passdata_airbox.csv')\n",
    "    \n",
    "    #for SiteEngName in df['SiteEngName'].unique().tolist():\n",
    "    device_id = '74DA38AF47E6' \n",
    "    print 'input_device_id: {}'.format(device_id)\n",
    "    \n",
    "    MSE_r_list = []\n",
    "    MAE_r_list = []\n",
    "    \n",
    "    range = pd.date_range(min(df['time']), max(df['time']), freq='20min').time\n",
    "    time_list = zip(range[:-1],range[1:])\n",
    "\n",
    "    for time in time_list:\n",
    "        #print '### time range: {} ~ {}'.format(time[0],time[1])\n",
    "        filter_df = get_time(df,time[0],time[1]) # input_time \n",
    "        \n",
    "        # split x and y\n",
    "        input_SiteEngName = device_id\n",
    "            \n",
    "        df_x, df_y = x_y_split(input_SiteEngName,filter_df)\n",
    "    \n",
    "    \n",
    "        # filter df_x by setting r\n",
    "        lon_lat_x = df_x[['lon','lat']].drop_duplicates().as_matrix()\n",
    "        lon_lat_y = df_y[['lon','lat']].drop_duplicates().as_matrix()\n",
    "        distances = [get_distance(x, lon_lat_y[0]) for x in lon_lat_x] # calculate the min distance\n",
    "        \n",
    "        \n",
    "        \n",
    "        r_list = np.arange( min(distances)+0.0001, 0.1, 0.002) #can be change\n",
    "        min_MSE_r = test_r_model(df_x, df_y, r_list)\n",
    "        MSE_r_list.append(min_MSE_r*96)\n",
    "        \n",
    "    \n",
    "    #print type(range[:-1])\n",
    "    time_and_r_dict = dict(zip(range[:-1], MSE_r_list))\n",
    "    \n",
    "    #print time_and_r_dict\n",
    "    \n",
    "    \n",
    "    conv={}\n",
    "    for i in time_and_r_dict:\n",
    "        conv[str(i)]=time_and_r_dict[i]\n",
    "    with open('data.txt', 'w') as outfile:\n",
    "        json.dump(conv, outfile)\n",
    "        \n",
    "\n",
    "        \n",
    "    #print '#==================================================================='    \n",
    "    #print 'the nearest one distance(*96km): {} (lon,lat)'.format(min(distances))\n",
    "    #print '       the nearest one distance: {} (km)'.format(min(distances)*96)\n",
    "    #print '#==================================================================='\n",
    "\n",
    "\n",
    "    ## =================================testing===================================\n",
    "    \n",
    "    \n",
    " \n",
    "if __name__ == \"__main__\":\n",
    "    main()"
   ]
  }
 ],
 "metadata": {
  "kernelspec": {
   "display_name": "Python 2",
   "language": "python",
   "name": "python2"
  },
  "language_info": {
   "codemirror_mode": {
    "name": "ipython",
    "version": 2
   },
   "file_extension": ".py",
   "mimetype": "text/x-python",
   "name": "python",
   "nbconvert_exporter": "python",
   "pygments_lexer": "ipython2",
   "version": "2.7.13"
  }
 },
 "nbformat": 4,
 "nbformat_minor": 2
}
